{
 "cells": [
  {
   "cell_type": "markdown",
   "metadata": {},
   "source": [
    "# Importy"
   ]
  },
  {
   "cell_type": "code",
   "execution_count": 1,
   "metadata": {},
   "outputs": [],
   "source": [
    "import locale\n",
    "import time\n",
    "\n",
    "import csv\n",
    "import os\n",
    "\n",
    "import numpy as np\n",
    "from PIL import Image, ImageDraw\n",
    "\n",
    "import matplotlib.pyplot as plt\n",
    "import matplotlib.image as mpimg\n",
    "import random as random\n",
    "from IPython.display import Image as JupyterImage, display, clear_output"
   ]
  },
  {
   "cell_type": "markdown",
   "metadata": {},
   "source": [
    "# Nastaveni"
   ]
  },
  {
   "cell_type": "code",
   "execution_count": 2,
   "metadata": {},
   "outputs": [],
   "source": [
    "def sigmoida(phi):\n",
    "    return np.round(1.0 / (1.0 + np.exp(-phi)), 15)\n",
    "\n",
    "speed = 0.05 #rychlost učení etha\n",
    "inertia = 0.75 #setrvačnost alpha\n"
   ]
  },
  {
   "cell_type": "markdown",
   "metadata": {},
   "source": [
    "# Percepton"
   ]
  },
  {
   "cell_type": "code",
   "execution_count": 3,
   "metadata": {},
   "outputs": [],
   "source": [
    "class Percepton:\n",
    "    def __init__(self, num_outputs, num_inputs, activation):\n",
    "        self.num_inputs = num_inputs\n",
    "        self.num_outputs = num_outputs\n",
    "        self.w = np.zeros((num_outputs, num_inputs))\n",
    "        self.th = np.zeros(num_outputs)\n",
    "        self.activation_function = activation\n",
    "        self.delta = np.zeros(num_outputs)\n",
    "        self.dws = np.zeros((num_outputs, num_inputs))\n",
    "        self.odw = np.zeros((num_outputs, num_inputs))\n",
    "        self.dths = np.zeros(num_outputs)\n",
    "        self.odth = np.zeros(num_outputs)\n",
    "        self.outputs = np.zeros(num_outputs) #Y - outputs from Perceptron\n",
    "\n",
    "    def outputDelta(self, d):\n",
    "        # deltai = (di - yi) * (yi * (1 - yi))\n",
    "        diff = d - self.outputs\n",
    "        self.delta = diff * (self.outputs * (1 - self.outputs))\n",
    "        return diff @ diff / len(self.outputs)\n",
    "\n",
    "    def learn(self, xInputs):\n",
    "        # self.dws += self.delta * xInputs\n",
    "        for i in range(len(self.dws)):\n",
    "            self.dws[i] += self.delta[i] * xInputs\n",
    "\n",
    "        self.dths += -self.delta\n",
    "\n",
    "    def backPropagate(self, prevLayer):\n",
    "        # print('out', np.transpose(self.w) @ self.delta)\n",
    "        prevLayer.delta = (np.transpose(self.w) @ self.delta) * (prevLayer.outputs * (1 - prevLayer.outputs))\n",
    "\n",
    "    def epochStart(self):\n",
    "        self.dws = np.zeros((self.num_outputs, self.num_inputs))\n",
    "        self.dths = np.zeros(self.num_outputs)\n",
    "        self.outputs = np.zeros(self.num_outputs)\n",
    "\n",
    "    def epochFinish(self):\n",
    "        dws_temp = speed * self.dws + inertia * self.odw\n",
    "        self.w += dws_temp\n",
    "        self.odw = dws_temp\n",
    "\n",
    "        dths_temp = speed * self.dths + inertia * self.odth\n",
    "        self.th += dths_temp\n",
    "        self.odth = dths_temp\n",
    "\n",
    "    def recall(self, inputs_array):\n",
    "        self.outputs = self.activation_function(self.w @ inputs_array - self.th)\n",
    "        return self.outputs\n",
    "\n",
    "    def init(self, randon_range_min, randon_range_max):\n",
    "        for x in range(len(self.w)):\n",
    "            for y in range(len(self.w[x])):\n",
    "                self.w[x][y] = random.uniform(randon_range_max, randon_range_min)\n",
    "\n",
    "        for x in range(len(self.th)):\n",
    "            self.th[x] = random.uniform(randon_range_max, randon_range_min)"
   ]
  },
  {
   "cell_type": "markdown",
   "metadata": {},
   "source": [
    "# Net"
   ]
  },
  {
   "cell_type": "code",
   "execution_count": 4,
   "metadata": {},
   "outputs": [],
   "source": [
    "class Net:\n",
    "    def __init__(self):\n",
    "        self.layers = []\n",
    "        self.output = []\n",
    "\n",
    "    def recall(self, x):\n",
    "        self.layers[0].recall(x)\n",
    "        return self.layers[1].recall(self.layers[0].outputs)\n",
    "\n",
    "    def netInit(self, randon_range_min, randon_range_max):\n",
    "        self.layers = []\n",
    "        self.layers.append(Percepton(25, 25, sigmoida))\n",
    "        self.layers.append(Percepton(20, 25, sigmoida))\n",
    "        self.output = self.layers[1]\n",
    "        for l in self.layers:\n",
    "            l.init(randon_range_min, randon_range_max)\n",
    "        # self.layers[0].w[0][0] = -  0.214767760000000\n",
    "        # self.layers[0].w[0][1] = -  0.045404790000000\n",
    "        # self.layers[0].w[1][0] =    0.106739550000000\n",
    "        # self.layers[0].w[1][1] =    0.136999780000000\n",
    "        # self.layers[0].th[0]   = -  0.299236760000000\n",
    "        # self.layers[0].th[1]   =    0.122603690000000\n",
    "        # self.layers[1].w[0][0] =    0.025870070000000\n",
    "        # self.layers[1].w[0][1] =    0.168638190000000\n",
    "        # self.layers[1].th[0]   =    0.019322390000000\n",
    "\n",
    "    def epochStart(self):\n",
    "        for l in self.layers:\n",
    "            l.epochStart()\n",
    "\n",
    "    def epochFinish(self):\n",
    "        for l in self.layers:\n",
    "            l.epochFinish()\n",
    "\n",
    "    def learn(self, x, d):\n",
    "        self.recall(x)\n",
    "        e = self.layers[1].outputDelta(d)\n",
    "        # print('mse', e)\n",
    "        self.layers[1].learn(self.layers[0].outputs)\n",
    "        self.layers[1].backPropagate(self.layers[0])\n",
    "        self.layers[0].learn(x)\n",
    "        return e\n",
    "\n",
    "    def print_net(self):\n",
    "        print(\"%1.15f\" % self.layers[1].outputs[0] + \";output:y\")\n",
    "        print(\"%1.15f\" % self.layers[1].th[0] + \";output:threshold\")\n",
    "        print(\"%1.15f\" % self.layers[1].w[0][0] + \";output:w[0]\")\n",
    "        print(\"%1.15f\" % self.layers[1].w[0][1] + \";output:w[1]\")\n",
    "        print(\"%1.15f\" % self.layers[1].delta[0] + \";output:delta\")\n",
    "        print(\"%1.15f\" % self.layers[1].dths[0] + \";output:deltathreshold\")\n",
    "        print(\"%1.15f\" % self.layers[1].dws[0][0] + \";output:deltaw[0]\")\n",
    "        print(\"%1.15f\" % self.layers[1].dws[0][1] + \";output:deltaw[1]\")\n",
    "        print(\"%1.15f\" % self.layers[0].outputs[0] + \";hidden:y[0]\")\n",
    "        print(\"%1.15f\" % self.layers[0].outputs[1] + \";hidden:y[1]\")\n",
    "        print(\"%1.15f\" % self.layers[0].th[0] + \";hidden:threshold[0]\")\n",
    "        print(\"%1.15f\" % self.layers[0].th[1] + \";hidden:threshold[1]\")\n",
    "        print(\"%1.15f\" % self.layers[0].w[0][0] + \";hidden:w[0][0]\")\n",
    "        print(\"%1.15f\" % self.layers[0].w[0][1] + \";hidden:w[0][1]\")\n",
    "        print(\"%1.15f\" % self.layers[0].w[1][0] + \";hidden:w[1][0]\")\n",
    "        print(\"%1.15f\" % self.layers[0].w[1][1] + \";hidden:w[1][1]\")\n",
    "        print(\"%1.15f\" % self.layers[0].delta[0] + \";hidden:delta[0]\")\n",
    "        print(\"%1.15f\" % self.layers[0].delta[1] + \";hidden:delta[1]\")\n",
    "        print(\"%1.15f\" % self.layers[0].dths[0] + \";hidden:deltathreshold[0]\")\n",
    "        print(\"%1.15f\" % self.layers[0].dths[1] + \";hidden:deltathreshold[1]\")\n",
    "        print(\"%1.15f\" % self.layers[0].dws[0][0] + \";hidden:deltaw[0][0]\")\n",
    "        print(\"%1.15f\" % self.layers[0].dws[0][1] + \";hidden:deltaw[0][1]\")\n",
    "        print(\"%1.15f\" % self.layers[0].dws[1][0] + \";hidden:deltaw[1][0]\")\n",
    "        print(\"%1.15f\" % self.layers[0].dws[1][1] + \";hidden:deltaw[1][1]\")\n",
    "        # print(\"%1.15f\" % self.layers[0].oth[0] + \";hidden:old delta threshold [0]\")\n",
    "        # print(\"%1.15f\" % self.layers[0].oth[1] + \";hidden:old delta threshold [1]\")\n",
    "        print(\"%1.15f\" % self.layers[0].odw[0][0] + \";hidden:olddeltaw[0][0]\")\n",
    "        print(\"%1.15f\" % self.layers[0].odw[0][1] + \";hidden:olddeltaw[0][1]\")\n",
    "        print(\"%1.15f\" % self.layers[0].odw[1][0] + \";hidden:olddeltaw[1][0]\")\n",
    "        print(\"%1.15f\" % self.layers[0].odw[1][1] + \";hidden:olddeltaw[1][1]\")"
   ]
  },
  {
   "cell_type": "markdown",
   "metadata": {},
   "source": [
    "# Init"
   ]
  },
  {
   "cell_type": "code",
   "execution_count": 5,
   "metadata": {},
   "outputs": [],
   "source": [
    "def normalize(value, min, max):\n",
    "    return (value - min) / (max - min)\n",
    "\n",
    "\n",
    "\n",
    "net = Net()\n",
    "net.netInit(-0.5, 0.5)"
   ]
  },
  {
   "cell_type": "markdown",
   "metadata": {},
   "source": [
    "# Dataset"
   ]
  },
  {
   "cell_type": "code",
   "execution_count": 6,
   "metadata": {},
   "outputs": [
    {
     "name": "stdout",
     "output_type": "stream",
     "text": [
      "[1. 0. 0. 0. 0. 0. 0. 0. 0. 0. 0. 0. 0. 0. 0. 0. 0. 0. 0. 0.]\n"
     ]
    },
    {
     "data": {
      "image/png": "[encoded data removed]",
      "text/plain": [
       "<IPython.core.display.Image object>"
      ]
     },
     "metadata": {},
     "output_type": "display_data"
    },
    {
     "name": "stdout",
     "output_type": "stream",
     "text": [
      "[0. 1. 0. 0. 0. 0. 0. 0. 0. 0. 0. 0. 0. 0. 0. 0. 0. 0. 0. 0.]\n"
     ]
    },
    {
     "data": {
      "image/png": "[encoded data removed]",
      "text/plain": [
       "<IPython.core.display.Image object>"
      ]
     },
     "metadata": {},
     "output_type": "display_data"
    },
    {
     "name": "stdout",
     "output_type": "stream",
     "text": [
      "[0. 0. 1. 0. 0. 0. 0. 0. 0. 0. 0. 0. 0. 0. 0. 0. 0. 0. 0. 0.]\n"
     ]
    },
    {
     "data": {
      "image/png": "[encoded data removed]",
      "text/plain": [
       "<IPython.core.display.Image object>"
      ]
     },
     "metadata": {},
     "output_type": "display_data"
    },
    {
     "name": "stdout",
     "output_type": "stream",
     "text": [
      "[0. 0. 0. 1. 0. 0. 0. 0. 0. 0. 0. 0. 0. 0. 0. 0. 0. 0. 0. 0.]\n"
     ]
    },
    {
     "data": {
      "image/png": "[encoded data removed]",
      "text/plain": [
       "<IPython.core.display.Image object>"
      ]
     },
     "metadata": {},
     "output_type": "display_data"
    },
    {
     "name": "stdout",
     "output_type": "stream",
     "text": [
      "[0. 0. 0. 0. 1. 0. 0. 0. 0. 0. 0. 0. 0. 0. 0. 0. 0. 0. 0. 0.]\n"
     ]
    },
    {
     "data": {
      "image/png": "[encoded data removed]",
      "text/plain": [
       "<IPython.core.display.Image object>"
      ]
     },
     "metadata": {},
     "output_type": "display_data"
    },
    {
     "name": "stdout",
     "output_type": "stream",
     "text": [
      "[0. 0. 0. 0. 0. 1. 0. 0. 0. 0. 0. 0. 0. 0. 0. 0. 0. 0. 0. 0.]\n"
     ]
    },
    {
     "data": {
      "image/png": "[encoded data removed]",
      "text/plain": [
       "<IPython.core.display.Image object>"
      ]
     },
     "metadata": {},
     "output_type": "display_data"
    },
    {
     "name": "stdout",
     "output_type": "stream",
     "text": [
      "[0. 0. 0. 0. 0. 0. 1. 0. 0. 0. 0. 0. 0. 0. 0. 0. 0. 0. 0. 0.]\n"
     ]
    },
    {
     "data": {
      "image/png": "[encoded data removed]",
      "text/plain": [
       "<IPython.core.display.Image object>"
      ]
     },
     "metadata": {},
     "output_type": "display_data"
    },
    {
     "name": "stdout",
     "output_type": "stream",
     "text": [
      "[0. 0. 0. 0. 0. 0. 0. 1. 0. 0. 0. 0. 0. 0. 0. 0. 0. 0. 0. 0.]\n"
     ]
    },
    {
     "data": {
      "image/png": "[encoded data removed]",
      "text/plain": [
       "<IPython.core.display.Image object>"
      ]
     },
     "metadata": {},
     "output_type": "display_data"
    },
    {
     "name": "stdout",
     "output_type": "stream",
     "text": [
      "[0. 0. 0. 0. 0. 0. 0. 0. 1. 0. 0. 0. 0. 0. 0. 0. 0. 0. 0. 0.]\n"
     ]
    },
    {
     "data": {
      "image/png": "[encoded data removed]",
      "text/plain": [
       "<IPython.core.display.Image object>"
      ]
     },
     "metadata": {},
     "output_type": "display_data"
    },
    {
     "name": "stdout",
     "output_type": "stream",
     "text": [
      "[0. 0. 0. 0. 0. 0. 0. 0. 0. 1. 0. 0. 0. 0. 0. 0. 0. 0. 0. 0.]\n"
     ]
    },
    {
     "data": {
      "image/png": "[encoded data removed]",
      "text/plain": [
       "<IPython.core.display.Image object>"
      ]
     },
     "metadata": {},
     "output_type": "display_data"
    },
    {
     "name": "stdout",
     "output_type": "stream",
     "text": [
      "[0. 0. 0. 0. 0. 0. 0. 0. 0. 0. 1. 0. 0. 0. 0. 0. 0. 0. 0. 0.]\n"
     ]
    },
    {
     "data": {
      "image/png": "[encoded data removed]",
      "text/plain": [
       "<IPython.core.display.Image object>"
      ]
     },
     "metadata": {},
     "output_type": "display_data"
    },
    {
     "name": "stdout",
     "output_type": "stream",
     "text": [
      "[0. 0. 0. 0. 0. 0. 0. 0. 0. 0. 0. 1. 0. 0. 0. 0. 0. 0. 0. 0.]\n"
     ]
    },
    {
     "data": {
      "image/png": "[encoded data removed]",
      "text/plain": [
       "<IPython.core.display.Image object>"
      ]
     },
     "metadata": {},
     "output_type": "display_data"
    },
    {
     "name": "stdout",
     "output_type": "stream",
     "text": [
      "[0. 0. 0. 0. 0. 0. 0. 0. 0. 0. 0. 0. 1. 0. 0. 0. 0. 0. 0. 0.]\n"
     ]
    },
    {
     "data": {
      "image/png": "[encoded data removed]",
      "text/plain": [
       "<IPython.core.display.Image object>"
      ]
     },
     "metadata": {},
     "output_type": "display_data"
    },
    {
     "name": "stdout",
     "output_type": "stream",
     "text": [
      "[0. 0. 0. 0. 0. 0. 0. 0. 0. 0. 0. 0. 0. 1. 0. 0. 0. 0. 0. 0.]\n"
     ]
    },
    {
     "data": {
      "image/png": "[encoded data removed]",
      "text/plain": [
       "<IPython.core.display.Image object>"
      ]
     },
     "metadata": {},
     "output_type": "display_data"
    },
    {
     "name": "stdout",
     "output_type": "stream",
     "text": [
      "[0. 0. 0. 0. 0. 0. 0. 0. 0. 0. 0. 0. 0. 0. 1. 0. 0. 0. 0. 0.]\n"
     ]
    },
    {
     "data": {
      "image/png": "[encoded data removed]",
      "text/plain": [
       "<IPython.core.display.Image object>"
      ]
     },
     "metadata": {},
     "output_type": "display_data"
    },
    {
     "name": "stdout",
     "output_type": "stream",
     "text": [
      "[0. 0. 0. 0. 0. 0. 0. 0. 0. 0. 0. 0. 0. 0. 0. 1. 0. 0. 0. 0.]\n"
     ]
    },
    {
     "data": {
      "image/png": "[encoded data removed]",
      "text/plain": [
       "<IPython.core.display.Image object>"
      ]
     },
     "metadata": {},
     "output_type": "display_data"
    },
    {
     "name": "stdout",
     "output_type": "stream",
     "text": [
      "[0. 0. 0. 0. 0. 0. 0. 0. 0. 0. 0. 0. 0. 0. 0. 0. 1. 0. 0. 0.]\n"
     ]
    },
    {
     "data": {
      "image/png": "[encoded data removed]",
      "text/plain": [
       "<IPython.core.display.Image object>"
      ]
     },
     "metadata": {},
     "output_type": "display_data"
    },
    {
     "name": "stdout",
     "output_type": "stream",
     "text": [
      "[0. 0. 0. 0. 0. 0. 0. 0. 0. 0. 0. 0. 0. 0. 0. 0. 0. 1. 0. 0.]\n"
     ]
    },
    {
     "data": {
      "image/png": "[encoded data removed]",
      "text/plain": [
       "<IPython.core.display.Image object>"
      ]
     },
     "metadata": {},
     "output_type": "display_data"
    },
    {
     "name": "stdout",
     "output_type": "stream",
     "text": [
      "[0. 0. 0. 0. 0. 0. 0. 0. 0. 0. 0. 0. 0. 0. 0. 0. 0. 0. 1. 0.]\n"
     ]
    },
    {
     "data": {
      "image/png": "[encoded data removed]",
      "text/plain": [
       "<IPython.core.display.Image object>"
      ]
     },
     "metadata": {},
     "output_type": "display_data"
    },
    {
     "name": "stdout",
     "output_type": "stream",
     "text": [
      "[0. 0. 0. 0. 0. 0. 0. 0. 0. 0. 0. 0. 0. 0. 0. 0. 0. 0. 0. 1.]\n"
     ]
    },
    {
     "data": {
      "image/png": "[encoded data removed]",
      "text/plain": [
       "<IPython.core.display.Image object>"
      ]
     },
     "metadata": {},
     "output_type": "display_data"
    }
   ],
   "source": [
    "filename = 'imgs.data'\n",
    "raw_data = open(filename, 'rt')\n",
    "reader = csv.reader(raw_data, delimiter=',', quoting=csv.QUOTE_NONE)\n",
    "x = list(reader)\n",
    "\n",
    "trainSet = []\n",
    "\n",
    "def parse_img(url, width, height):\n",
    "    img = Image.open(url)\n",
    "    img = img.convert('L')\n",
    "    img = img.resize((width, height), Image.ANTIALIAS)\n",
    "    img = np.array(img, dtype=np.float)\n",
    "    return img\n",
    "\n",
    "for item in x:\n",
    "    if len(item) > 0:\n",
    "        label = list(item[1])\n",
    "        label = np.array(label, dtype=np.float)\n",
    "\n",
    "        img = parse_img(\"./imgs/\"+ item[0], 5, 5)\n",
    "        img = np.concatenate(img)\n",
    "        img = normalize(img, 0, 255)\n",
    "        \n",
    "        print(label)\n",
    "        display(JupyterImage(filename=\"imgs/\"+ item[0]))\n",
    "\n",
    "        trainSet.append(\n",
    "                  [\n",
    "                      img,\n",
    "                      label,\n",
    "                      item[0]\n",
    "                  ])\n"
   ]
  },
  {
   "cell_type": "markdown",
   "metadata": {},
   "source": [
    "# Learn"
   ]
  },
  {
   "cell_type": "code",
   "execution_count": 7,
   "metadata": {},
   "outputs": [
    {
     "name": "stdout",
     "output_type": "stream",
     "text": [
      "EPOCH: 6001\n",
      "Error: 5.9016333197774756e-05\n"
     ]
    },
    {
     "data": {
      "image/png": "[encoded data removed]",
      "text/plain": [
       "<Figure size 432x288 with 1 Axes>"
      ]
     },
     "metadata": {
      "needs_background": "light"
     },
     "output_type": "display_data"
    },
    {
     "name": "stdout",
     "output_type": "stream",
     "text": [
      "EPOCH: 6886\n",
      "Error: 4.999499636454569e-05\n",
      "========================\n"
     ]
    }
   ],
   "source": [
    "rms = []\n",
    "epoch = []\n",
    "avgErr = 0\n",
    "err = 0\n",
    "for i in range(50000):\n",
    "    avgErr = 0\n",
    "    net.epochStart()\n",
    "    for pat in trainSet:\n",
    "        avgErr += net.learn(pat[0], pat[1])\n",
    "    net.epochFinish()\n",
    "    err = avgErr/len(trainSet)\n",
    "\n",
    "    if err < 0.00005:\n",
    "        print(\"EPOCH:\", i + 1)\n",
    "        print(\"Error:\", err)\n",
    "        print(\"========================\")\n",
    "        break\n",
    "\n",
    "    rms.append( err )\n",
    "    epoch.append(i + 1)\n",
    "\n",
    "    if i % 50000 == 0:\n",
    "        rms = []\n",
    "        epoch = []\n",
    "    \n",
    "    if i % 1000 == 0:\n",
    "        clear_output()\n",
    "        print(\"EPOCH:\", i + 1)\n",
    "        print(\"Error:\", err)\n",
    "        fig, axs = plt.subplots(1, 1)\n",
    "        axs.plot(epoch, rms)\n",
    "        axs.set_xlabel('Epoch')\n",
    "        axs.set_ylabel('Error')\n",
    "        axs.grid(True)\n",
    "        plt.show()\n",
    "        "
   ]
  },
  {
   "cell_type": "markdown",
   "metadata": {},
   "source": [
    "# RMS graf"
   ]
  },
  {
   "cell_type": "code",
   "execution_count": 8,
   "metadata": {},
   "outputs": [],
   "source": [
    "# fig, axs = plt.subplots(1, 1)\n",
    "# axs.plot(epoch, rms)\n",
    "# axs.set_xlabel('Epoch')\n",
    "# axs.set_ylabel('Error')\n",
    "# axs.grid(True)\n",
    "# plt.show()"
   ]
  },
  {
   "cell_type": "markdown",
   "metadata": {},
   "source": [
    "# Ověření"
   ]
  },
  {
   "cell_type": "code",
   "execution_count": 9,
   "metadata": {},
   "outputs": [
    {
     "name": "stdout",
     "output_type": "stream",
     "text": [
      "Train set   :[1. 0. 0. 0. 0. 0. 0. 0. 0. 0. 0. 0. 0. 0. 0. 0. 0. 0. 0. 0.] :\n",
      "After learn :[1. 0. 0. 0. 0. 0. 0. 0. 0. 0. 0. 0. 0. 0. 0. 0. 0. 0. 0. 0.]\n",
      "=====\n",
      "Train set   :[0. 1. 0. 0. 0. 0. 0. 0. 0. 0. 0. 0. 0. 0. 0. 0. 0. 0. 0. 0.] :\n",
      "After learn :[0. 1. 0. 0. 0. 0. 0. 0. 0. 0. 0. 0. 0. 0. 0. 0. 0. 0. 0. 0.]\n",
      "=====\n",
      "Train set   :[0. 0. 1. 0. 0. 0. 0. 0. 0. 0. 0. 0. 0. 0. 0. 0. 0. 0. 0. 0.] :\n",
      "After learn :[0. 0. 1. 0. 0. 0. 0. 0. 0. 0. 0. 0. 0. 0. 0. 0. 0. 0. 0. 0.]\n",
      "=====\n",
      "Train set   :[0. 0. 0. 1. 0. 0. 0. 0. 0. 0. 0. 0. 0. 0. 0. 0. 0. 0. 0. 0.] :\n",
      "After learn :[0. 0. 0. 1. 0. 0. 0. 0. 0. 0. 0. 0. 0. 0. 0. 0. 0. 0. 0. 0.]\n",
      "=====\n",
      "Train set   :[0. 0. 0. 0. 1. 0. 0. 0. 0. 0. 0. 0. 0. 0. 0. 0. 0. 0. 0. 0.] :\n",
      "After learn :[0. 0. 0. 0. 1. 0. 0. 0. 0. 0. 0. 0. 0. 0. 0. 0. 0. 0. 0. 0.]\n",
      "=====\n",
      "Train set   :[0. 0. 0. 0. 0. 1. 0. 0. 0. 0. 0. 0. 0. 0. 0. 0. 0. 0. 0. 0.] :\n",
      "After learn :[0. 0. 0. 0. 0. 1. 0. 0. 0. 0. 0. 0. 0. 0. 0. 0. 0. 0. 0. 0.]\n",
      "=====\n",
      "Train set   :[0. 0. 0. 0. 0. 0. 1. 0. 0. 0. 0. 0. 0. 0. 0. 0. 0. 0. 0. 0.] :\n",
      "After learn :[0. 0. 0. 0. 0. 0. 1. 0. 0. 0. 0. 0. 0. 0. 0. 0. 0. 0. 0. 0.]\n",
      "=====\n",
      "Train set   :[0. 0. 0. 0. 0. 0. 0. 1. 0. 0. 0. 0. 0. 0. 0. 0. 0. 0. 0. 0.] :\n",
      "After learn :[0. 0. 0. 0. 0. 0. 0. 1. 0. 0. 0. 0. 0. 0. 0. 0. 0. 0. 0. 0.]\n",
      "=====\n",
      "Train set   :[0. 0. 0. 0. 0. 0. 0. 0. 1. 0. 0. 0. 0. 0. 0. 0. 0. 0. 0. 0.] :\n",
      "After learn :[0. 0. 0. 0. 0. 0. 0. 0. 1. 0. 0. 0. 0. 0. 0. 0. 0. 0. 0. 0.]\n",
      "=====\n",
      "Train set   :[0. 0. 0. 0. 0. 0. 0. 0. 0. 1. 0. 0. 0. 0. 0. 0. 0. 0. 0. 0.] :\n",
      "After learn :[0. 0. 0. 0. 0. 0. 0. 0. 0. 1. 0. 0. 0. 0. 0. 0. 0. 0. 0. 0.]\n",
      "=====\n",
      "Train set   :[0. 0. 0. 0. 0. 0. 0. 0. 0. 0. 1. 0. 0. 0. 0. 0. 0. 0. 0. 0.] :\n",
      "After learn :[0. 0. 0. 0. 0. 0. 0. 0. 0. 0. 1. 0. 0. 0. 0. 0. 0. 0. 0. 0.]\n",
      "=====\n",
      "Train set   :[0. 0. 0. 0. 0. 0. 0. 0. 0. 0. 0. 1. 0. 0. 0. 0. 0. 0. 0. 0.] :\n",
      "After learn :[0. 0. 0. 0. 0. 0. 0. 0. 0. 0. 0. 1. 0. 0. 0. 0. 0. 0. 0. 0.]\n",
      "=====\n",
      "Train set   :[0. 0. 0. 0. 0. 0. 0. 0. 0. 0. 0. 0. 1. 0. 0. 0. 0. 0. 0. 0.] :\n",
      "After learn :[0. 0. 0. 0. 0. 0. 0. 0. 0. 0. 0. 0. 1. 0. 0. 0. 0. 0. 0. 0.]\n",
      "=====\n",
      "Train set   :[0. 0. 0. 0. 0. 0. 0. 0. 0. 0. 0. 0. 0. 1. 0. 0. 0. 0. 0. 0.] :\n",
      "After learn :[0. 0. 0. 0. 0. 0. 0. 0. 0. 0. 0. 0. 0. 1. 0. 0. 0. 0. 0. 0.]\n",
      "=====\n",
      "Train set   :[0. 0. 0. 0. 0. 0. 0. 0. 0. 0. 0. 0. 0. 0. 1. 0. 0. 0. 0. 0.] :\n",
      "After learn :[0. 0. 0. 0. 0. 0. 0. 0. 0. 0. 0. 0. 0. 0. 1. 0. 0. 0. 0. 0.]\n",
      "=====\n",
      "Train set   :[0. 0. 0. 0. 0. 0. 0. 0. 0. 0. 0. 0. 0. 0. 0. 1. 0. 0. 0. 0.] :\n",
      "After learn :[0. 0. 0. 0. 0. 0. 0. 0. 0. 0. 0. 0. 0. 0. 0. 1. 0. 0. 0. 0.]\n",
      "=====\n",
      "Train set   :[0. 0. 0. 0. 0. 0. 0. 0. 0. 0. 0. 0. 0. 0. 0. 0. 1. 0. 0. 0.] :\n",
      "After learn :[0. 0. 0. 0. 0. 0. 0. 0. 0. 0. 0. 0. 0. 0. 0. 0. 1. 0. 0. 0.]\n",
      "=====\n",
      "Train set   :[0. 0. 0. 0. 0. 0. 0. 0. 0. 0. 0. 0. 0. 0. 0. 0. 0. 1. 0. 0.] :\n",
      "After learn :[0. 0. 0. 0. 0. 0. 0. 0. 0. 0. 0. 0. 0. 0. 0. 0. 0. 1. 0. 0.]\n",
      "=====\n",
      "Train set   :[0. 0. 0. 0. 0. 0. 0. 0. 0. 0. 0. 0. 0. 0. 0. 0. 0. 0. 1. 0.] :\n",
      "After learn :[0. 0. 0. 0. 0. 0. 0. 0. 0. 0. 0. 0. 0. 0. 0. 0. 0. 0. 1. 0.]\n",
      "=====\n",
      "Train set   :[0. 0. 0. 0. 0. 0. 0. 0. 0. 0. 0. 0. 0. 0. 0. 0. 0. 0. 0. 1.] :\n",
      "After learn :[0. 0. 0. 0. 0. 0. 0. 0. 0. 0. 0. 0. 0. 0. 0. 0. 0. 0. 0. 1.]\n",
      "=====\n"
     ]
    }
   ],
   "source": [
    "def print_result(it):\n",
    "    print(\"Train set   :\"+str(trainSet[it][1])+\" :\")\n",
    "    print(\"After learn :\"+str(np.round(net.recall(trainSet[it][0]))))\n",
    "    #print(\"Real        :\"+str(net.recall(trainSet[it][0])))\n",
    "    print(\"=====\")    \n",
    "\n",
    "\n",
    "\n",
    "for i in range(20):\n",
    "    print_result(i)\n"
   ]
  },
  {
   "cell_type": "markdown",
   "metadata": {},
   "source": [
    "# Stickman"
   ]
  },
  {
   "cell_type": "code",
   "execution_count": 10,
   "metadata": {},
   "outputs": [
    {
     "data": {
      "image/png": "[encoded data removed]",
      "text/plain": [
       "<IPython.core.display.Image object>"
      ]
     },
     "metadata": {},
     "output_type": "display_data"
    }
   ],
   "source": [
    "IMG_URL = \"./imgs/260x445.png\"\n",
    "WIDTH = 260\n",
    "HEIGHT = 445\n",
    "display(JupyterImage(filename=IMG_URL))"
   ]
  },
  {
   "cell_type": "markdown",
   "metadata": {},
   "source": [
    "## Prohledání stickmana"
   ]
  },
  {
   "cell_type": "code",
   "execution_count": null,
   "metadata": {},
   "outputs": [],
   "source": [
    "#Load real stickman\n",
    "stickman_arr = parse_img(IMG_URL, WIDTH, HEIGHT)\n",
    "\n",
    "#Prepare blank image\n",
    "result_img = Image.new('RGB', (WIDTH, HEIGHT), (255, 255, 255))\n",
    "\n",
    "def get_image_window(column_param, height_param, size):\n",
    "    result = np.zeros((size, size))\n",
    "    c = 0\n",
    "    r = 0\n",
    "    \n",
    "    for row in range(height_param, height_param + size):\n",
    "        r = 0\n",
    "        for column in range(column_param, column_param + size):\n",
    "            result[c][r] = stickman_arr[row][column]\n",
    "            r += 1\n",
    "        c += 1\n",
    "            \n",
    "    return np.array(result)\n",
    "\n",
    "def make_transparent (img):\n",
    "    img = img.convert(\"RGBA\")\n",
    "    datas = img.getdata()\n",
    "    newData = []\n",
    "    for item in datas:\n",
    "        if item[0] == 255 and item[1] == 255 and item[2] == 255:\n",
    "            newData.append((255, 255, 255, 0))\n",
    "        else:\n",
    "            newData.append(item)\n",
    "\n",
    "    img.putdata(newData)\n",
    "    return img\n",
    "        \n",
    "SCAN_WINDOW = 5\n",
    "\n",
    "\n",
    "#Show scan image\n",
    "preview_image = Image.open(IMG_URL)\n",
    "preview_scan_window = Image.new('RGB', (SCAN_WINDOW, SCAN_WINDOW), (0, 255, 0))\n",
    "\n",
    "\n",
    "for row in range(0, (HEIGHT-(SCAN_WINDOW-1)), 1):\n",
    "    for column in range(0, (WIDTH-(SCAN_WINDOW-1)), 1):\n",
    "        #get image\n",
    "        img = get_image_window(column, row, SCAN_WINDOW)\n",
    "        img2 = np.round(np.concatenate(img))\n",
    "        img2 = normalize(img2, 0, 255)\n",
    "        \n",
    "        #get net result\n",
    "        net_result = net.recall(img2)\n",
    "        net_max = max(net_result)\n",
    "        result = [i for i, j in enumerate(net_result) if j == net_max]\n",
    "        \n",
    "#         preview_image.paste(preview_scan_window, (column, row))\n",
    "        if len(result) > 0:\n",
    "                    \n",
    "            if(result[0] != 0 ):\n",
    "#                 clear_output()\n",
    "                temp_result_img = Image.open(\"./imgs/\"+str(result[0])+\".png\")\n",
    "                \n",
    "                result_img.paste(make_transparent(temp_result_img), (column, row), make_transparent(temp_result_img))\n",
    "#                 display(img)\n",
    "#                 display(preview_image)\n",
    "#                 display(result_img)\n",
    "#             time.sleep(0.1)\n",
    "\n",
    "\n",
    "\n",
    "#Display result\n",
    "clear_output()\n",
    "display(JupyterImage(filename=IMG_URL))\n",
    "display(result_img)\n",
    "\n"
   ]
  },
  {
   "cell_type": "code",
   "execution_count": null,
   "metadata": {
    "scrolled": true
   },
   "outputs": [],
   "source": []
  }
 ],
 "metadata": {
  "kernelspec": {
   "display_name": "Python 3",
   "language": "python",
   "name": "python3"
  },
  "language_info": {
   "codemirror_mode": {
    "name": "ipython",
    "version": 3
   },
   "file_extension": ".py",
   "mimetype": "text/x-python",
   "name": "python",
   "nbconvert_exporter": "python",
   "pygments_lexer": "ipython3",
   "version": "3.6.8"
  }
 },
 "nbformat": 4,
 "nbformat_minor": 2
}
