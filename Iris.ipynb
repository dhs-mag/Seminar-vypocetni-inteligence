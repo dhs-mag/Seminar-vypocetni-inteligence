{
 "cells": [
  {
   "cell_type": "markdown",
   "metadata": {},
   "source": [
    "# Importy"
   ]
  },
  {
   "cell_type": "code",
   "execution_count": 1,
   "metadata": {},
   "outputs": [],
   "source": [
    "import locale\n",
    "\n",
    "import csv\n",
    "import numpy as np\n",
    "from PIL import Image, ImageDraw\n",
    "\n",
    "import matplotlib.pyplot as plt\n",
    "import matplotlib.image as mpimg\n",
    "import random as random\n",
    "from IPython.display import Image as JupyterImage, display, clear_output"
   ]
  },
  {
   "cell_type": "markdown",
   "metadata": {},
   "source": [
    "# Nastaveni"
   ]
  },
  {
   "cell_type": "code",
   "execution_count": 2,
   "metadata": {},
   "outputs": [],
   "source": [
    "def sigmoida(phi):\n",
    "    return np.round(1.0 / (1.0 + np.exp(-phi)), 15)\n",
    "\n",
    "speed = 0.5 #rychlost učení\n",
    "inertia = 0.2 #setrvačnost"
   ]
  },
  {
   "cell_type": "markdown",
   "metadata": {},
   "source": [
    "# Percepton"
   ]
  },
  {
   "cell_type": "code",
   "execution_count": 3,
   "metadata": {},
   "outputs": [],
   "source": [
    "class Percepton:\n",
    "    def __init__(self, num_outputs, num_inputs, activation):\n",
    "        self.num_inputs = num_inputs\n",
    "        self.num_outputs = num_outputs\n",
    "        self.w = np.zeros((num_outputs, num_inputs))\n",
    "        self.th = np.zeros(num_outputs)\n",
    "        self.activation_function = activation\n",
    "        self.delta = np.zeros(num_outputs)\n",
    "        self.dws = np.zeros((num_outputs, num_inputs))\n",
    "        self.odw = np.zeros((num_outputs, num_inputs))\n",
    "        self.dths = np.zeros(num_outputs)\n",
    "        self.odth = np.zeros(num_outputs)\n",
    "        self.outputs = np.zeros(num_outputs) #Y - outputs from Perceptron\n",
    "\n",
    "    def outputDelta(self, d):\n",
    "        # deltai = (di - yi) * (yi * (1 - yi))\n",
    "        diff = d - self.outputs\n",
    "        self.delta = diff * (self.outputs * (1 - self.outputs))\n",
    "        return diff @ diff / len(self.outputs)\n",
    "\n",
    "    def learn(self, xInputs):\n",
    "        # self.dws += self.delta * xInputs\n",
    "        for i in range(len(self.dws)):\n",
    "            self.dws[i] += self.delta[i] * xInputs\n",
    "\n",
    "        self.dths += -self.delta\n",
    "\n",
    "    def backPropagate(self, prevLayer):\n",
    "        # print('out', np.transpose(self.w) @ self.delta)\n",
    "        prevLayer.delta = (np.transpose(self.w) @ self.delta) * (prevLayer.outputs * (1 - prevLayer.outputs))\n",
    "\n",
    "    def epochStart(self):\n",
    "        self.dws = np.zeros((self.num_outputs, self.num_inputs))\n",
    "        self.dths = np.zeros(self.num_outputs)\n",
    "        self.outputs = np.zeros(self.num_outputs)\n",
    "\n",
    "    def epochFinish(self):\n",
    "        dws_temp = speed * self.dws + inertia * self.odw\n",
    "        self.w += dws_temp\n",
    "        self.odw = dws_temp\n",
    "\n",
    "        dths_temp = speed * self.dths + inertia * self.odth\n",
    "        self.th += dths_temp\n",
    "        self.odth = dths_temp\n",
    "\n",
    "    def recall(self, inputs_array):\n",
    "        self.outputs = self.activation_function(self.w @ inputs_array - self.th)\n",
    "        return self.outputs\n",
    "\n",
    "    def init(self, randon_range_min, randon_range_max):\n",
    "        for x in range(len(self.w)):\n",
    "            for y in range(len(self.w[x])):\n",
    "                self.w[x][y] = random.uniform(randon_range_max, randon_range_min)\n",
    "\n",
    "        for x in range(len(self.th)):\n",
    "            self.th[x] = random.uniform(randon_range_max, randon_range_min)"
   ]
  },
  {
   "cell_type": "markdown",
   "metadata": {},
   "source": [
    "# Net"
   ]
  },
  {
   "cell_type": "code",
   "execution_count": 4,
   "metadata": {},
   "outputs": [],
   "source": [
    "class Net:\n",
    "    def __init__(self):\n",
    "        self.layers = []\n",
    "        self.output = []\n",
    "\n",
    "    def recall(self, x):\n",
    "        self.layers[0].recall(x)\n",
    "        return self.layers[1].recall(self.layers[0].outputs)\n",
    "\n",
    "    def netInit(self, randon_range_min, randon_range_max):\n",
    "        self.layers = []\n",
    "        self.layers.append(Percepton(4, 4, sigmoida))\n",
    "        self.layers.append(Percepton(3, 4, sigmoida))\n",
    "        self.output = self.layers[1]\n",
    "        for l in self.layers:\n",
    "            l.init(randon_range_min, randon_range_max)\n",
    "\n",
    "    def epochStart(self):\n",
    "        for l in self.layers:\n",
    "            l.epochStart()\n",
    "\n",
    "    def epochFinish(self):\n",
    "        for l in self.layers:\n",
    "            l.epochFinish()\n",
    "\n",
    "    def learn(self, x, d):\n",
    "        self.recall(x)\n",
    "        e = self.layers[1].outputDelta(d)\n",
    "        # print('mse', e)\n",
    "        self.layers[1].learn(self.layers[0].outputs)\n",
    "        self.layers[1].backPropagate(self.layers[0])\n",
    "        self.layers[0].learn(x)\n",
    "        return e\n",
    "\n",
    "    def print_net(self):\n",
    "        print(\"%1.15f\" % self.layers[1].outputs[0] + \";output:y\")\n",
    "        print(\"%1.15f\" % self.layers[1].th[0] + \";output:threshold\")\n",
    "        print(\"%1.15f\" % self.layers[1].w[0][0] + \";output:w[0]\")\n",
    "        print(\"%1.15f\" % self.layers[1].w[0][1] + \";output:w[1]\")\n",
    "        print(\"%1.15f\" % self.layers[1].delta[0] + \";output:delta\")\n",
    "        print(\"%1.15f\" % self.layers[1].dths[0] + \";output:deltathreshold\")\n",
    "        print(\"%1.15f\" % self.layers[1].dws[0][0] + \";output:deltaw[0]\")\n",
    "        print(\"%1.15f\" % self.layers[1].dws[0][1] + \";output:deltaw[1]\")\n",
    "        print(\"%1.15f\" % self.layers[0].outputs[0] + \";hidden:y[0]\")\n",
    "        print(\"%1.15f\" % self.layers[0].outputs[1] + \";hidden:y[1]\")\n",
    "        print(\"%1.15f\" % self.layers[0].th[0] + \";hidden:threshold[0]\")\n",
    "        print(\"%1.15f\" % self.layers[0].th[1] + \";hidden:threshold[1]\")\n",
    "        print(\"%1.15f\" % self.layers[0].w[0][0] + \";hidden:w[0][0]\")\n",
    "        print(\"%1.15f\" % self.layers[0].w[0][1] + \";hidden:w[0][1]\")\n",
    "        print(\"%1.15f\" % self.layers[0].w[1][0] + \";hidden:w[1][0]\")\n",
    "        print(\"%1.15f\" % self.layers[0].w[1][1] + \";hidden:w[1][1]\")\n",
    "        print(\"%1.15f\" % self.layers[0].delta[0] + \";hidden:delta[0]\")\n",
    "        print(\"%1.15f\" % self.layers[0].delta[1] + \";hidden:delta[1]\")\n",
    "        print(\"%1.15f\" % self.layers[0].dths[0] + \";hidden:deltathreshold[0]\")\n",
    "        print(\"%1.15f\" % self.layers[0].dths[1] + \";hidden:deltathreshold[1]\")\n",
    "        print(\"%1.15f\" % self.layers[0].dws[0][0] + \";hidden:deltaw[0][0]\")\n",
    "        print(\"%1.15f\" % self.layers[0].dws[0][1] + \";hidden:deltaw[0][1]\")\n",
    "        print(\"%1.15f\" % self.layers[0].dws[1][0] + \";hidden:deltaw[1][0]\")\n",
    "        print(\"%1.15f\" % self.layers[0].dws[1][1] + \";hidden:deltaw[1][1]\")\n",
    "        # print(\"%1.15f\" % self.layers[0].oth[0] + \";hidden:old delta threshold [0]\")\n",
    "        # print(\"%1.15f\" % self.layers[0].oth[1] + \";hidden:old delta threshold [1]\")\n",
    "        print(\"%1.15f\" % self.layers[0].odw[0][0] + \";hidden:olddeltaw[0][0]\")\n",
    "        print(\"%1.15f\" % self.layers[0].odw[0][1] + \";hidden:olddeltaw[0][1]\")\n",
    "        print(\"%1.15f\" % self.layers[0].odw[1][0] + \";hidden:olddeltaw[1][0]\")\n",
    "        print(\"%1.15f\" % self.layers[0].odw[1][1] + \";hidden:olddeltaw[1][1]\")"
   ]
  },
  {
   "cell_type": "markdown",
   "metadata": {},
   "source": [
    "# Init"
   ]
  },
  {
   "cell_type": "code",
   "execution_count": 5,
   "metadata": {},
   "outputs": [],
   "source": [
    "def normalize(value, min, max):\n",
    "    return (value - min) / (max - min)\n",
    "\n",
    "\n",
    "\n",
    "net = Net()\n",
    "net.netInit(-0.3, 0.3)"
   ]
  },
  {
   "cell_type": "markdown",
   "metadata": {},
   "source": [
    "# Dataset"
   ]
  },
  {
   "cell_type": "code",
   "execution_count": 6,
   "metadata": {},
   "outputs": [],
   "source": [
    "filename = 'iris.data'\n",
    "raw_data = open(filename, 'rt')\n",
    "reader = csv.reader(raw_data, delimiter=',', quoting=csv.QUOTE_NONE)\n",
    "x = list(reader)\n",
    "\n",
    "trainSet = []\n",
    "\n",
    "for item in x:\n",
    "    if len(item) > 0:\n",
    "        trainSet.append(\n",
    "                  [\n",
    "                      np.array([\n",
    "                          normalize(float(item[0]), 4.3, 7.9),\n",
    "                          normalize(float(item[1]), 2, 4.4),\n",
    "                          normalize(float(item[2]), 1, 6.9),\n",
    "                          normalize(float(item[3]), 0.1, 2.5)\n",
    "                      ]),\n",
    "                      np.array([\n",
    "                          1 if item[4] == \"Iris-virginica\" else 0,\n",
    "                          1 if item[4] == \"Iris-versicolor\" else 0,\n",
    "                          1 if item[4] == \"Iris-setosa\" else 0\n",
    "                      ])\n",
    "                  ])\n"
   ]
  },
  {
   "cell_type": "markdown",
   "metadata": {},
   "source": [
    "# Learn"
   ]
  },
  {
   "cell_type": "code",
   "execution_count": 7,
   "metadata": {},
   "outputs": [
    {
     "name": "stdout",
     "output_type": "stream",
     "text": [
      "EPOCH: 401\n",
      "Error: 0.00969658654016458\n"
     ]
    },
    {
     "data": {
      "image/png": "[encoded data removed]",
      "text/plain": [
       "<Figure size 432x288 with 1 Axes>"
      ]
     },
     "metadata": {
      "needs_background": "light"
     },
     "output_type": "display_data"
    },
    {
     "name": "stdout",
     "output_type": "stream",
     "text": [
      "EPOCH: 435\n",
      "Error: 0.00896496962330915\n",
      "========================\n"
     ]
    }
   ],
   "source": [
    "rms = []\n",
    "epoch = []\n",
    "avgErr = 0\n",
    "err = 0\n",
    "for i in range(10000):\n",
    "    avgErr = 0\n",
    "    net.epochStart()\n",
    "    for pat in trainSet:\n",
    "        avgErr += net.learn(pat[0], pat[1])\n",
    "    net.epochFinish()\n",
    "    err = avgErr/len(trainSet)\n",
    "\n",
    "    if err < 0.009:\n",
    "        print(\"EPOCH:\", i + 1)\n",
    "        print(\"Error:\", err)\n",
    "        print(\"========================\")\n",
    "        break\n",
    "\n",
    "    rms.append( err )\n",
    "    epoch.append(i + 1)\n",
    "\n",
    "    if i % 200 == 0:\n",
    "        clear_output()\n",
    "        print(\"EPOCH:\", i + 1)\n",
    "        print(\"Error:\", err)\n",
    "        fig, axs = plt.subplots(1, 1)\n",
    "        axs.plot(epoch, rms)\n",
    "        axs.set_xlabel('Epoch')\n",
    "        axs.set_ylabel('Error')\n",
    "        axs.grid(True)\n",
    "        plt.show()\n"
   ]
  },
  {
   "cell_type": "markdown",
   "metadata": {},
   "source": [
    "# RMS graf"
   ]
  },
  {
   "cell_type": "code",
   "execution_count": 8,
   "metadata": {},
   "outputs": [],
   "source": [
    "# fig, axs = plt.subplots(1, 1)\n",
    "# axs.plot(epoch, rms)\n",
    "# axs.set_xlabel('Epoch')\n",
    "# axs.set_ylabel('Error')\n",
    "# axs.grid(True)\n",
    "# plt.show()"
   ]
  },
  {
   "cell_type": "markdown",
   "metadata": {},
   "source": [
    "# Ověření"
   ]
  },
  {
   "cell_type": "code",
   "execution_count": 9,
   "metadata": {},
   "outputs": [
    {
     "name": "stdout",
     "output_type": "stream",
     "text": [
      "After learn [0 0 1] : [0. 0. 1.]\n",
      "After learn [0 1 0] : [0. 1. 0.]\n",
      "After learn [1 0 0] : [1. 0. 0.]\n",
      "After learn [1 0 0] : [1. 0. 0.]\n"
     ]
    }
   ],
   "source": [
    "print(\"After learn \"+str(trainSet[0][1])+\" :\", np.round(net.recall(trainSet[0][0])))\n",
    "print(\"After learn \"+str(trainSet[55][1])+\" :\", np.round(net.recall(trainSet[55][0])))\n",
    "print(\"After learn \"+str(trainSet[107][1])+\" :\", np.round(net.recall(trainSet[107][0])))\n",
    "print(\"After learn \"+str(trainSet[142][1])+\" :\", np.round(net.recall(trainSet[142][0])))"
   ]
  },
  {
   "cell_type": "code",
   "execution_count": null,
   "metadata": {},
   "outputs": [],
   "source": []
  }
 ],
 "metadata": {
  "kernelspec": {
   "display_name": "Python 3",
   "language": "python",
   "name": "python3"
  },
  "language_info": {
   "codemirror_mode": {
    "name": "ipython",
    "version": 3
   },
   "file_extension": ".py",
   "mimetype": "text/x-python",
   "name": "python",
   "nbconvert_exporter": "python",
   "pygments_lexer": "ipython3",
   "version": "3.6.8"
  }
 },
 "nbformat": 4,
 "nbformat_minor": 2
}
